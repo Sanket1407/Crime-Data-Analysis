{
 "cells": [
  {
   "cell_type": "code",
   "execution_count": null,
   "id": "7280fd8e",
   "metadata": {},
   "outputs": [],
   "source": [
    "# Import necessary libraries\n",
    "import pandas as pd\n",
    "import numpy as np\n",
    "import matplotlib.pyplot as plt\n",
    "import seaborn as sns\n",
    "import os\n",
    "import sys"
   ]
  },
  {
   "cell_type": "markdown",
   "id": "dac5667c",
   "metadata": {},
   "source": [
    "# ✅ Q1 – Annual Crime Trends (2001–2013)\n",
    "\n",
    "Question:\n",
    "- Compute the total number of victims per year and analyze any patterns or fluctuations in crime rates over the years (2001–2012).\n",
    "\n",
    "Files of Use:\n",
    "- 01_District_wise_crimes_committed_IPC_2001_2012.csv\n",
    "- 01_District_wise_crimes_committed_IPC_2013.csv\n",
    "- 01_District_wise_crimes_committed_IPC_2014.csv\n",
    "\n",
    "Useful Columns\n",
    "- STATE/UT\n",
    "- YEAR\n",
    "- TOTAL IPC CRIMES"
   ]
  },
  {
   "cell_type": "markdown",
   "id": "52ea5cdd",
   "metadata": {},
   "source": [
    "## 🔹 Step 1: Loading The Dataset for the year 2001 - 2013"
   ]
  },
  {
   "cell_type": "code",
   "execution_count": null,
   "id": "3d5a86ee",
   "metadata": {},
   "outputs": [],
   "source": [
    "# Load the main IPC crimes file (2001–2012)\n",
    "ipc_df_2012 = pd.read_csv(r\"E:\\0. VS Code\\PrepGrad Minor project csvs\\01_District_wise_crimes_committed_IPC_2001_2012.csv\")\n",
    "ipc_df_2013 = pd.read_csv(r\"E:\\0. VS Code\\PrepGrad Minor project csvs\\01_District_wise_crimes_committed_IPC_2013.csv\")\n",
    "\n",
    "# Merge the two dataframes\n",
    "ipc_df = pd.concat([ipc_df_2012, ipc_df_2013], ignore_index=True)"
   ]
  },
  {
   "cell_type": "markdown",
   "id": "97161e42",
   "metadata": {},
   "source": [
    "## 🔹 Step 2: Clean Column Names"
   ]
  },
  {
   "cell_type": "code",
   "execution_count": 13,
   "id": "fd328e4c",
   "metadata": {},
   "outputs": [],
   "source": [
    "# Normalize column names: remove whitespace, lowercase, and replace spaces\n",
    "ipc_df.columns = ipc_df.columns.str.strip().str.upper().str.replace(' ', '_')"
   ]
  },
  {
   "cell_type": "markdown",
   "id": "c049aa21",
   "metadata": {},
   "source": [
    "## 🔹 Step 3: Checking Column Info and null values"
   ]
  },
  {
   "cell_type": "code",
   "execution_count": 23,
   "id": "5d6b8f12",
   "metadata": {},
   "outputs": [
    {
     "name": "stdout",
     "output_type": "stream",
     "text": [
      "<class 'pandas.core.frame.DataFrame'>\n",
      "RangeIndex: 9840 entries, 0 to 9839\n",
      "Data columns (total 33 columns):\n",
      " #   Column                                               Non-Null Count  Dtype \n",
      "---  ------                                               --------------  ----- \n",
      " 0   STATE/UT                                             9840 non-null   object\n",
      " 1   DISTRICT                                             9840 non-null   object\n",
      " 2   YEAR                                                 9840 non-null   int64 \n",
      " 3   MURDER                                               9840 non-null   int64 \n",
      " 4   ATTEMPT_TO_MURDER                                    9840 non-null   int64 \n",
      " 5   CULPABLE_HOMICIDE_NOT_AMOUNTING_TO_MURDER            9840 non-null   int64 \n",
      " 6   RAPE                                                 9840 non-null   int64 \n",
      " 7   CUSTODIAL_RAPE                                       9840 non-null   int64 \n",
      " 8   OTHER_RAPE                                           9840 non-null   int64 \n",
      " 9   KIDNAPPING_&_ABDUCTION                               9840 non-null   int64 \n",
      " 10  KIDNAPPING_AND_ABDUCTION_OF_WOMEN_AND_GIRLS          9840 non-null   int64 \n",
      " 11  KIDNAPPING_AND_ABDUCTION_OF_OTHERS                   9840 non-null   int64 \n",
      " 12  DACOITY                                              9840 non-null   int64 \n",
      " 13  PREPARATION_AND_ASSEMBLY_FOR_DACOITY                 9840 non-null   int64 \n",
      " 14  ROBBERY                                              9840 non-null   int64 \n",
      " 15  BURGLARY                                             9840 non-null   int64 \n",
      " 16  THEFT                                                9840 non-null   int64 \n",
      " 17  AUTO_THEFT                                           9840 non-null   int64 \n",
      " 18  OTHER_THEFT                                          9840 non-null   int64 \n",
      " 19  RIOTS                                                9840 non-null   int64 \n",
      " 20  CRIMINAL_BREACH_OF_TRUST                             9840 non-null   int64 \n",
      " 21  CHEATING                                             9840 non-null   int64 \n",
      " 22  COUNTERFIETING                                       9840 non-null   int64 \n",
      " 23  ARSON                                                9840 non-null   int64 \n",
      " 24  HURT/GREVIOUS_HURT                                   9840 non-null   int64 \n",
      " 25  DOWRY_DEATHS                                         9840 non-null   int64 \n",
      " 26  ASSAULT_ON_WOMEN_WITH_INTENT_TO_OUTRAGE_HER_MODESTY  9840 non-null   int64 \n",
      " 27  INSULT_TO_MODESTY_OF_WOMEN                           9840 non-null   int64 \n",
      " 28  CRUELTY_BY_HUSBAND_OR_HIS_RELATIVES                  9840 non-null   int64 \n",
      " 29  IMPORTATION_OF_GIRLS_FROM_FOREIGN_COUNTRIES          9840 non-null   int64 \n",
      " 30  CAUSING_DEATH_BY_NEGLIGENCE                          9840 non-null   int64 \n",
      " 31  OTHER_IPC_CRIMES                                     9840 non-null   int64 \n",
      " 32  TOTAL_IPC_CRIMES                                     9840 non-null   int64 \n",
      "dtypes: int64(31), object(2)\n",
      "memory usage: 2.5+ MB\n"
     ]
    }
   ],
   "source": [
    "ipc_df.info()"
   ]
  },
  {
   "cell_type": "code",
   "execution_count": 14,
   "id": "895d8ff1",
   "metadata": {},
   "outputs": [
    {
     "data": {
      "text/plain": [
       "['STATE/UT',\n",
       " 'DISTRICT',\n",
       " 'YEAR',\n",
       " 'MURDER',\n",
       " 'ATTEMPT_TO_MURDER',\n",
       " 'CULPABLE_HOMICIDE_NOT_AMOUNTING_TO_MURDER',\n",
       " 'RAPE',\n",
       " 'CUSTODIAL_RAPE',\n",
       " 'OTHER_RAPE',\n",
       " 'KIDNAPPING_&_ABDUCTION',\n",
       " 'KIDNAPPING_AND_ABDUCTION_OF_WOMEN_AND_GIRLS',\n",
       " 'KIDNAPPING_AND_ABDUCTION_OF_OTHERS',\n",
       " 'DACOITY',\n",
       " 'PREPARATION_AND_ASSEMBLY_FOR_DACOITY',\n",
       " 'ROBBERY',\n",
       " 'BURGLARY',\n",
       " 'THEFT',\n",
       " 'AUTO_THEFT',\n",
       " 'OTHER_THEFT',\n",
       " 'RIOTS',\n",
       " 'CRIMINAL_BREACH_OF_TRUST',\n",
       " 'CHEATING',\n",
       " 'COUNTERFIETING',\n",
       " 'ARSON',\n",
       " 'HURT/GREVIOUS_HURT',\n",
       " 'DOWRY_DEATHS',\n",
       " 'ASSAULT_ON_WOMEN_WITH_INTENT_TO_OUTRAGE_HER_MODESTY',\n",
       " 'INSULT_TO_MODESTY_OF_WOMEN',\n",
       " 'CRUELTY_BY_HUSBAND_OR_HIS_RELATIVES',\n",
       " 'IMPORTATION_OF_GIRLS_FROM_FOREIGN_COUNTRIES',\n",
       " 'CAUSING_DEATH_BY_NEGLIGENCE',\n",
       " 'OTHER_IPC_CRIMES',\n",
       " 'TOTAL_IPC_CRIMES']"
      ]
     },
     "execution_count": 14,
     "metadata": {},
     "output_type": "execute_result"
    }
   ],
   "source": [
    "# Preview columns to identify crime columns\n",
    "ipc_df.columns.tolist()"
   ]
  },
  {
   "cell_type": "markdown",
   "id": "131194f6",
   "metadata": {},
   "source": [
    "## 🔹 Step 4: Group by Year"
   ]
  },
  {
   "cell_type": "code",
   "execution_count": 15,
   "id": "bf6dda56",
   "metadata": {},
   "outputs": [
    {
     "data": {
      "text/html": [
       "<div>\n",
       "<style scoped>\n",
       "    .dataframe tbody tr th:only-of-type {\n",
       "        vertical-align: middle;\n",
       "    }\n",
       "\n",
       "    .dataframe tbody tr th {\n",
       "        vertical-align: top;\n",
       "    }\n",
       "\n",
       "    .dataframe thead th {\n",
       "        text-align: right;\n",
       "    }\n",
       "</style>\n",
       "<table border=\"1\" class=\"dataframe\">\n",
       "  <thead>\n",
       "    <tr style=\"text-align: right;\">\n",
       "      <th></th>\n",
       "      <th>YEAR</th>\n",
       "      <th>TOTAL_IPC_CRIMES</th>\n",
       "    </tr>\n",
       "  </thead>\n",
       "  <tbody>\n",
       "    <tr>\n",
       "      <th>0</th>\n",
       "      <td>2001</td>\n",
       "      <td>3538616</td>\n",
       "    </tr>\n",
       "    <tr>\n",
       "      <th>1</th>\n",
       "      <td>2002</td>\n",
       "      <td>3560660</td>\n",
       "    </tr>\n",
       "    <tr>\n",
       "      <th>2</th>\n",
       "      <td>2003</td>\n",
       "      <td>3432240</td>\n",
       "    </tr>\n",
       "    <tr>\n",
       "      <th>3</th>\n",
       "      <td>2004</td>\n",
       "      <td>3664020</td>\n",
       "    </tr>\n",
       "    <tr>\n",
       "      <th>4</th>\n",
       "      <td>2005</td>\n",
       "      <td>3645204</td>\n",
       "    </tr>\n",
       "    <tr>\n",
       "      <th>5</th>\n",
       "      <td>2006</td>\n",
       "      <td>3756586</td>\n",
       "    </tr>\n",
       "    <tr>\n",
       "      <th>6</th>\n",
       "      <td>2007</td>\n",
       "      <td>3979346</td>\n",
       "    </tr>\n",
       "    <tr>\n",
       "      <th>7</th>\n",
       "      <td>2008</td>\n",
       "      <td>4186758</td>\n",
       "    </tr>\n",
       "    <tr>\n",
       "      <th>8</th>\n",
       "      <td>2009</td>\n",
       "      <td>4242690</td>\n",
       "    </tr>\n",
       "    <tr>\n",
       "      <th>9</th>\n",
       "      <td>2010</td>\n",
       "      <td>4449662</td>\n",
       "    </tr>\n",
       "    <tr>\n",
       "      <th>10</th>\n",
       "      <td>2011</td>\n",
       "      <td>4651150</td>\n",
       "    </tr>\n",
       "    <tr>\n",
       "      <th>11</th>\n",
       "      <td>2012</td>\n",
       "      <td>4774376</td>\n",
       "    </tr>\n",
       "    <tr>\n",
       "      <th>12</th>\n",
       "      <td>2013</td>\n",
       "      <td>5295444</td>\n",
       "    </tr>\n",
       "  </tbody>\n",
       "</table>\n",
       "</div>"
      ],
      "text/plain": [
       "    YEAR  TOTAL_IPC_CRIMES\n",
       "0   2001           3538616\n",
       "1   2002           3560660\n",
       "2   2003           3432240\n",
       "3   2004           3664020\n",
       "4   2005           3645204\n",
       "5   2006           3756586\n",
       "6   2007           3979346\n",
       "7   2008           4186758\n",
       "8   2009           4242690\n",
       "9   2010           4449662\n",
       "10  2011           4651150\n",
       "11  2012           4774376\n",
       "12  2013           5295444"
      ]
     },
     "execution_count": 15,
     "metadata": {},
     "output_type": "execute_result"
    }
   ],
   "source": [
    "# Group by YEAR to get total crimes per year\n",
    "yearly_trend = ipc_df.groupby('YEAR')['TOTAL_IPC_CRIMES'].sum().reset_index()\n",
    "yearly_trend"
   ]
  },
  {
   "cell_type": "markdown",
   "id": "6b131dad",
   "metadata": {},
   "source": [
    "## 🔹 Step 5: Visualization"
   ]
  },
  {
   "cell_type": "code",
   "execution_count": null,
   "id": "27c4e81b",
   "metadata": {},
   "outputs": [
    {
     "data": {
      "image/png": "[encoded data removed]",
      "text/plain": [
       "<Figure size 1200x600 with 1 Axes>"
      ]
     },
     "metadata": {},
     "output_type": "display_data"
    }
   ],
   "source": [
    "\n",
    "plt.figure(figsize=(12, 6))\n",
    "sns.lineplot(data=yearly_trend, x='YEAR', y='TOTAL_IPC_CRIMES', marker='o', linewidth=2)\n",
    "\n",
    "plt.title('Annual Crime Trend in India (2001-2013)', fontsize=16)\n",
    "plt.xlabel('Year')\n",
    "plt.ylabel('Total Crimes Recorded')\n",
    "plt.grid(True)\n",
    "plt.tight_layout()\n",
    "plt.show()\n"
   ]
  },
  {
   "cell_type": "markdown",
   "id": "155b8e52",
   "metadata": {},
   "source": [
    "## 🔍 Observation\n",
    "\n",
    "- The graph highlights the trend of total crime victims recorded in India from 2001 to 2012.\n",
    "\n",
    "- Trend: Crime numbers increased steadily from 2001 to 2011, with a slight dip in 2004 and 2008.\n",
    "\n",
    "- There appears to be a steady increase in crime over the years, which may be influenced by population growth, improved crime reporting, or socio-political changes.\n",
    "\n",
    "- Spike: A significant spike can be observed in 2011–2012, which could be explored further in later questions."
   ]
  },
  {
   "cell_type": "markdown",
   "id": "282b20ec",
   "metadata": {},
   "source": [
    "# ✅ Q2: State-Wise Crime Analysis (2001–2013)"
   ]
  }
 ],
 "metadata": {
  "kernelspec": {
   "display_name": "Python 3",
   "language": "python",
   "name": "python3"
  },
  "language_info": {
   "codemirror_mode": {
    "name": "ipython",
    "version": 3
   },
   "file_extension": ".py",
   "mimetype": "text/x-python",
   "name": "python",
   "nbconvert_exporter": "python",
   "pygments_lexer": "ipython3",
   "version": "3.13.1"
  }
 },
 "nbformat": 4,
 "nbformat_minor": 5
}
